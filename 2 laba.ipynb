{
 "cells": [
  {
   "cell_type": "markdown",
   "id": "883acb33-b893-46d0-93a9-5d64410a1de4",
   "metadata": {},
   "source": [
    "Создайте массив NumPy размером 3×3, содержащий числа от 1 до 9. Умножьте\n",
    "все элементы массива на 2, а затем замените все элементы больше 10 на 0.\n",
    "Выведите итоговый массив"
   ]
  },
  {
   "cell_type": "code",
   "execution_count": null,
   "id": "e5ac34bc-5da8-4616-8499-65361cc23c74",
   "metadata": {},
   "outputs": [],
   "source": [
    "import numpy as np\n",
    "a = np.array([[1, 2, 3], [4, 5, 6], [7, 8, 9]])\n",
    "print(a * 2)\n",
    "\n",
    "for i in range(3):\n",
    "    for j in range(3):\n",
    "        if a[i, j] > 10:  \n",
    "            a[i, j] = 0\n",
    "\n",
    "print(a)"
   ]
  },
  {
   "cell_type": "markdown",
   "id": "6fa551e0-8199-45e4-9a4a-615cc4daaae1",
   "metadata": {},
   "source": [
    "Создайте массив NumPy из 20 случайных целых чисел от 1 до 100. Найдите и\n",
    "выведите все элементы, которые делятся на 5 без остатка. Затем замените их на\n",
    "-1 и выведите обновленный массив"
   ]
  },
  {
   "cell_type": "code",
   "execution_count": 8,
   "id": "afd68fd1-733f-499b-baf4-cf35c9342bb7",
   "metadata": {},
   "outputs": [
    {
     "name": "stdout",
     "output_type": "stream",
     "text": [
      "[24 44  1 99  3 45 43 18 61  4 52 98 38 80 38 87 39 85 59 67]\n",
      "[24 44  1 99  3 -1 43 18 61  4 52 98 38 -1 38 87 39 -1 59 67]\n"
     ]
    }
   ],
   "source": [
    "import numpy as np\n",
    "a = np.random.randint(1, 100, 20)\n",
    "print(a)\n",
    "a[a%5==0]=-1\n",
    "print(a)"
   ]
  },
  {
   "cell_type": "markdown",
   "id": "e917b081-89f5-4842-a8b4-066c2d56a4fe",
   "metadata": {},
   "source": [
    "Создайте два массива NumPy размером 1×5, заполненные случайными числами\n",
    "от 0 до 50.\n",
    "Выведите все промежуточные и итоговые результаты."
   ]
  },
  {
   "cell_type": "code",
   "execution_count": null,
   "id": "262855fc-fd89-47c7-923f-e5295979530e",
   "metadata": {},
   "outputs": [],
   "source": [
    "import numpy as np\n",
    "a = np.random.randint(0, 50, size = (1, 5))\n",
    "a1 = np.random.randint(0, 50, size = (1, 5))\n",
    "result = np.vstack((a, a1))\n",
    "b = result[0, :]\n",
    "b1 = result[1, :]\n",
    "print(a)\n",
    "print(a1)\n",
    "print()\n",
    "print(result)\n",
    "print()\n",
    "print(b)\n",
    "print(b1)\n"
   ]
  },
  {
   "cell_type": "markdown",
   "id": "68e3aac5-4699-44cc-a809-6614e6146a25",
   "metadata": {},
   "source": [
    "Создайте массив из 50 чисел, равномерно распределенных от -10 до 10.\n",
    "Вычислите сумму всех элементов, сумму положительных элементов и сумму\n",
    "отрицательных элементов. Выведите результаты."
   ]
  },
  {
   "cell_type": "code",
   "execution_count": null,
   "id": "87bba1fb-2b9b-4a4d-90c9-f17fc7da1444",
   "metadata": {},
   "outputs": [],
   "source": [
    "import numpy as np\n",
    "mas = np.random.normal(-10, 10, 50)\n",
    "print(mas)\n",
    "summ, sum_poz, sum_neg = 0, 0, 0\n",
    "for i in range(len(mas)):\n",
    "    summ+=mas[i]\n",
    "    if mas[i]>0:\n",
    "        sum_poz+=mas[i]\n",
    "    elif mas[i]<0:\n",
    "        sum_neg+=mas[i]\n",
    "            \n",
    "print(summ, sum_poz, sum_neg)"
   ]
  },
  {
   "cell_type": "markdown",
   "id": "68088344-57e9-4a20-8fad-1c0b7e121b56",
   "metadata": {},
   "source": [
    "Создайте:\n",
    "Единичную матрицу размером 4×4.\n",
    "Диагональную матрицу размером 4×4 с диагональными элементами [5, 10, 15, 20] (не использовать циклы).\n",
    "Найдите сумму всех элементов каждой из этих матриц и сравните результаты."
   ]
  },
  {
   "cell_type": "code",
   "execution_count": 15,
   "id": "1f90db1b-7dd6-4b54-b29b-c6cfef848596",
   "metadata": {},
   "outputs": [
    {
     "name": "stdout",
     "output_type": "stream",
     "text": [
      "4.0 50\n"
     ]
    }
   ],
   "source": [
    "import numpy as np\n",
    "a = np.eye(4)\n",
    "sum_el_a, sum_el_a1 = 0, 0\n",
    "m = [5, 10, 15, 20]\n",
    "m_diag = np.diag(m)\n",
    "a1 = np.array(m_diag)\n",
    "for row in a:\n",
    "    for col in row:\n",
    "        sum_el_a += col\n",
    "for row in a1:\n",
    "    for col in row:\n",
    "        sum_el_a1 += col\n",
    "print(sum_el_a, sum_el_a1)"
   ]
  },
  {
   "cell_type": "markdown",
   "id": "fbec921c-9de9-48e6-b720-aa2ed6b4b1fe",
   "metadata": {},
   "source": [
    "Создайте две квадратные матрицы NumPy размером 3×3, заполненные случайными целыми числами от 1 до 20. Вычислите и выведите:\n",
    "Их сумму\n",
    "Их разность\n",
    "Их поэлементное произведение"
   ]
  },
  {
   "cell_type": "code",
   "execution_count": null,
   "id": "937bed71-a32f-4218-a2e0-0c6f6e1d3c15",
   "metadata": {},
   "outputs": [],
   "source": [
    "import numpy as np  \n",
    "a = np.random.randint(1, 20, size=(3, 3))  \n",
    "a1 = np.random.randint(1, 20, size=(3, 3))  \n",
    "print(a + a1, \"\\n\")  \n",
    "print(a - a1, \"\\n\")  \n",
    "print(a * a1, \"\\n\")"
   ]
  },
  {
   "cell_type": "markdown",
   "id": "dfbc0a84-e735-4e40-b1e8-7226713797d9",
   "metadata": {},
   "source": [
    "Создайте две матрицы NumPy:\n",
    "Первую размером 2×3, заполненную случайными числами от 1 до 10.\n",
    "Вторую размером 3×2, заполненную случайными числами от 1 до 10.\n",
    "Выполните матричное умножение (используя оператор @ или функцию np.dot) и выведите результат."
   ]
  },
  {
   "cell_type": "code",
   "execution_count": null,
   "id": "5a0a338a-2d93-46c6-b69b-1187c7883fc8",
   "metadata": {},
   "outputs": [],
   "source": [
    "import numpy as np\n",
    "matrix1 = np.random.randint(1, 10, size = (2, 3))\n",
    "matrix2 = np.random.randint(1, 10, size = (3, 2))\n",
    "print(np.dot(matrix1, matrix2))"
   ]
  },
  {
   "cell_type": "markdown",
   "id": "fb0443ac-499d-4a19-9825-95731c9b118d",
   "metadata": {},
   "source": [
    "Создайте случайную квадратную матрицу 3×3. Найдите и выведите:\n",
    "Определитель этой матрицы (используйте np.linalg.det).\n",
    "Обратную матрицу (используйте np.linalg.inv). Если матрица вырождена (определитель равен 0), выведите сообщение, что матрица вырождена."
   ]
  },
  {
   "cell_type": "code",
   "execution_count": 4,
   "id": "cbd1cdae-18ef-49ac-89e4-1ec03491085c",
   "metadata": {},
   "outputs": [
    {
     "name": "stdout",
     "output_type": "stream",
     "text": [
      "-468.00000000000017\n",
      "[[-4.27350427e-03  7.69230769e-02 -2.13675214e-02]\n",
      " [ 3.61111111e-01  1.07237451e-17 -1.94444444e-01]\n",
      " [-1.62393162e-01 -7.69230769e-02  1.88034188e-01]]\n"
     ]
    }
   ],
   "source": [
    "import numpy as np\n",
    "matrix = np.random.randint(1, 20, size=(3, 3))\n",
    "det = np.linalg.det(matrix)\n",
    "if det == 0:\n",
    "    print(\"матрица вырождена\")\n",
    "inv = np.linalg.inv(matrix)\n",
    "print(det)\n",
    "print(inv)"
   ]
  },
  {
   "cell_type": "markdown",
   "id": "46f72d03-31e6-4a3c-9bb9-91b4fcb0c2ec",
   "metadata": {},
   "source": [
    "Создайте матрицу NumPy размером 4×4, содержащую случайные целые числа от 1 до 50. Выведите:\n",
    "Исходную матрицу\n",
    "Транспонированную матрицу\n",
    "След матрицы (сумму элементов на главной диагонали)\n",
    "Используйте np.trace для нахождения следа."
   ]
  },
  {
   "cell_type": "code",
   "execution_count": null,
   "id": "c9fb2f84-405c-402e-9578-5692e8eaa97e",
   "metadata": {},
   "outputs": [],
   "source": [
    "import numpy as np\n",
    "matrix = np.random.randint(1, 50, size = (4,4))\n",
    "trace = np.trace(matrix)\n",
    "print(matrix)\n",
    "print(np.transpose(matrix))\n",
    "print(trace)\n"
   ]
  },
  {
   "cell_type": "markdown",
   "id": "202af588-e348-4988-92d7-7c316130a82d",
   "metadata": {},
   "source": [
    "Решите систему линейных уравнений вида:\n",
    "2x+3y-z=5\n",
    "4x-y+2z=6\n",
    "-3x+5y+4z=-2\n",
    "Используйте матричное представление Ax = B , где A – матрица коэффициентов,\n",
    "x – вектор неизвестных, B – вектор правой части. Решите систему с помощью\n",
    "np.linalg.solve и выведите результат"
   ]
  },
  {
   "cell_type": "code",
   "execution_count": null,
   "id": "363421a6-4b80-4ef6-8ee2-4d5b8fa43c8d",
   "metadata": {},
   "outputs": [],
   "source": [
    "import numpy as np\n",
    "A = np.array([[2, 3, -1], [4, -1, 2], [-3, 5, 4]])\n",
    "B = [5, 6, -2]\n",
    "solution = np.linalg.solve(A, B)\n",
    "print(solution)"
   ]
  },
  {
   "cell_type": "markdown",
   "id": "0e3797de-5b29-47b9-8a00-421f3d782419",
   "metadata": {},
   "source": [
    "Решите индивидуальное задание согласно вашему варианту. Каждое задание предусматривает построение системы линейных уравнений. Решите полученную систему уравнений с использованием библиотеки NumPy. Для решения системы используйте:\n",
    "Метод Крамера\n",
    "Матричный метод\n",
    "Сравните полученные результаты с результатами, полученными с помощью np.linalg.solve\n",
    "\n",
    "Компания выделила 1 500 000 рублей\n",
    "на рекламу в интернете, на телевидении и в печатных изданиях. На интернет-\n",
    "рекламу выделяется в 2 раза больше, чем на печатные издания, а на\n",
    "телевидение — на 500 000 рублей больше, чем на печатные издания. Как\n",
    "распределены деньги?"
   ]
  },
  {
   "cell_type": "code",
   "execution_count": null,
   "id": "2702a7bd-310b-444a-af9e-e9fe9fa196d3",
   "metadata": {},
   "outputs": [],
   "source": [
    "import numpy as np\n",
    "# решение матричным методом\n",
    "A = np.array([[1,1,1], \n",
    "            [-2, 1, 0], \n",
    "            [-1, 0, 1]])\n",
    "A_inv = np.linalg.inv(A)#обратная матрица\n",
    "B = [1500000, 0, 500000]\n",
    "X = np.dot(A_inv, B)\n",
    "print(X[0], '- Печатные издания')\n",
    "print(X[1], '- Интернет реклама')\n",
    "print(X[2],  '- Телевидение')\n",
    "# Решение методом крамера\n",
    "det_A = np.linalg.det(A)\n",
    "A1 = A.copy()\n",
    "A2 = A.copy()\n",
    "A3 = A.copy()\n",
    "# Заменяем столбцы на вектор B\n",
    "A1[:, 0] = B   \n",
    "A2[:, 1] = B  \n",
    "A3[:, 2] = B  \n",
    "#Вычисляем определители новых матриц\n",
    "det_A1 = np.linalg.det(A1)\n",
    "det_A2 = np.linalg.det(A2)\n",
    "det_A3 = np.linalg.det(A3)\n",
    "# находим иксы\n",
    "x1 = det_A1 / det_A\n",
    "x2 = det_A2 / det_A\n",
    "x3 = det_A3 / det_A\n",
    "print(f\"Печатные издания: {int(x1)} рублей\")\n",
    "print(f\"Интернет-реклама: {int(x2)} рублей\")\n",
    "print(f\"Телевидение: {int(x3)} рублей\")\n",
    "#проверка третьим способом\n",
    "print(np.linalg.solve(A, B))"
   ]
  }
 ],
 "metadata": {
  "kernelspec": {
   "display_name": "Python [conda env:base] *",
   "language": "python",
   "name": "conda-base-py"
  },
  "language_info": {
   "codemirror_mode": {
    "name": "ipython",
    "version": 3
   },
   "file_extension": ".py",
   "mimetype": "text/x-python",
   "name": "python",
   "nbconvert_exporter": "python",
   "pygments_lexer": "ipython3",
   "version": "3.12.3"
  }
 },
 "nbformat": 4,
 "nbformat_minor": 5
}
